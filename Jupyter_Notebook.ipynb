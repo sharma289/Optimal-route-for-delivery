{
  "cells": [
    {
      "cell_type": "markdown",
      "metadata": {
        "id": "view-in-github",
        "colab_type": "text"
      },
      "source": [
        "<a href=\"https://colab.research.google.com/github/sharma289/Zorang-Recruitment-Project/blob/main/Jupyter_Notebook.ipynb\" target=\"_parent\"><img src=\"https://colab.research.google.com/assets/colab-badge.svg\" alt=\"Open In Colab\"/></a>"
      ]
    },
    {
      "cell_type": "markdown",
      "metadata": {
        "id": "_OgWBQ0vLkOL"
      },
      "source": [
        "# Assignment\n",
        "\n",
        "**Objective:** To design and create algorithm for finding the optimal routes for delivery agents to deliver\n",
        "parcels from a store to consumers.\n",
        "\n",
        "\n",
        "\n",
        "**Requirements and constraints:**\n",
        "\n",
        "● There are 100 orders which are to be delivered by 10 delivery agents.\n",
        "\n",
        "● There is one store location from where all orders will be delivered and after\n",
        "finishing the deliveries, the agents will come back to the store.\n",
        "\n",
        "● You are given 100 random addresses where parcels are to be delivered.\n",
        "\n",
        "● Map an optimal route for each delivery person for doing the deliveries and in\n",
        "what order they will do the deliveries.\n",
        "\n",
        "● It is not required that all delivery agents will deliver the same number of orders.\n",
        "\n",
        "● Each delivery agent can pick multiple orders in one trip. Each agent will deliver at\n",
        "least one order.\n",
        "\n",
        "\n",
        "**Assumptions:**\n",
        "\n",
        "● All 100 orders are ready at the same time.\n",
        "\n",
        "● All delivery agents go at the same speed.\n",
        "\n",
        "● Consider straight line distance between any two coordinates.\n",
        "\n",
        "\n",
        "**Problem:**\n",
        "Design optimal routes for all 10 delivery agents so that all packages are delivered and\n",
        "delivery agents return to the store in shortest amount of time."
      ]
    },
    {
      "cell_type": "code",
      "execution_count": null,
      "metadata": {
        "id": "fivtQUZhLkOO"
      },
      "outputs": [],
      "source": [
        "!pip install scikit-learn pandas numpy matplotlib seaborn --quiet"
      ]
    },
    {
      "cell_type": "code",
      "execution_count": null,
      "metadata": {
        "id": "hpJj-cHiLkOP"
      },
      "outputs": [],
      "source": [
        "import math\n",
        "import json\n",
        "import numpy as np\n",
        "import pandas as pd\n",
        "import matplotlib.pyplot as plt\n",
        "import seaborn as sns\n",
        "from sklearn.cluster import KMeans"
      ]
    },
    {
      "cell_type": "markdown",
      "metadata": {
        "id": "Rtpa8bR_LkOQ"
      },
      "source": [
        "### Read and print the location ID, Latitude and longitude."
      ]
    },
    {
      "cell_type": "code",
      "execution_count": null,
      "metadata": {
        "id": "977xktvGLkOQ"
      },
      "outputs": [],
      "source": [
        "with open('Locations.txt','r') as f:\n",
        "    data = f.read()\n",
        "inputs = json.loads(data)"
      ]
    },
    {
      "cell_type": "code",
      "execution_count": null,
      "metadata": {
        "id": "Lvi8vNcrLkOQ",
        "outputId": "7a3b3cbc-8192-4ab1-dd3e-0f530a59451d"
      },
      "outputs": [
        {
          "name": "stdout",
          "output_type": "stream",
          "text": [
            "[{'_id': 1, 'latitude': 77.26398177444935, 'longitude': 29.08908139212639}, {'_id': 2, 'latitude': 77.2652468523133, 'longitude': 29.092540182173252}, {'_id': 3, 'latitude': 77.26404986407397, 'longitude': 29.09916289150715}, {'_id': 4, 'latitude': 77.26563535630703, 'longitude': 29.095355203949506}, {'_id': 5, 'latitude': 77.26583819836377, 'longitude': 29.095966333768118}, {'_id': 6, 'latitude': 77.26591865459652, 'longitude': 29.096030741930008}, {'_id': 7, 'latitude': 77.26655669510365, 'longitude': 29.096778433551563}, {'_id': 8, 'latitude': 77.26625794215028, 'longitude': 29.10057406872511}, {'_id': 9, 'latitude': 77.26653425798689, 'longitude': 29.09987032413483}, {'_id': 10, 'latitude': 77.26763392032183, 'longitude': 29.09902442246675}, {'_id': 11, 'latitude': 77.26816771909714, 'longitude': 29.100369215011597}, {'_id': 12, 'latitude': 77.26838428527117, 'longitude': 29.106186546794223}, {'_id': 13, 'latitude': 77.26839568465948, 'longitude': 29.10613791918116}, {'_id': 14, 'latitude': 77.26839568465948, 'longitude': 29.10613791918116}, {'_id': 15, 'latitude': 77.2683805969933, 'longitude': 29.10623084753752}, {'_id': 16, 'latitude': 77.26900588721037, 'longitude': 29.104451171249522}, {'_id': 17, 'latitude': 77.27113638840338, 'longitude': 29.109589643776417}, {'_id': 18, 'latitude': 77.05522680276044, 'longitude': 28.42167042195797}, {'_id': 19, 'latitude': 78.0288378149, 'longitude': 27.1434745807}, {'_id': 20, 'latitude': 78.0554456636, 'longitude': 27.1581814282}, {'_id': 21, 'latitude': 80.93117639422417, 'longitude': 26.838514896886736}, {'_id': 22, 'latitude': 73.86530748177277, 'longitude': 18.50923240184784}, {'_id': 23, 'latitude': 72.83506723783144, 'longitude': 21.194217503070828}, {'_id': 24, 'latitude': 72.8313768915411, 'longitude': 21.173333823680878}, {'_id': 25, 'latitude': 84.09939866513014, 'longitude': 24.04220160698313}, {'_id': 26, 'latitude': 84.54404924064875, 'longitude': 25.515784804698182}, {'_id': 27, 'latitude': 85.05047530433829, 'longitude': 23.352146856486797}, {'_id': 28, 'latitude': 85.05042222303217, 'longitude': 22.47985292226076}, {'_id': 29, 'latitude': 86.97660762816668, 'longitude': 23.51162401401524}, {'_id': 30, 'latitude': 47.86461110553439, 'longitude': 17.760396860539913}, {'_id': 31, 'latitude': 45.83053924115291, 'longitude': 21.818511039018635}, {'_id': 32, 'latitude': 39.230719330494054, 'longitude': 36.83638673275709}, {'_id': 33, 'latitude': 39.230719330494054, 'longitude': 36.83638673275709}, {'_id': 34, 'latitude': 35.7229859499076, 'longitude': 51.3818771392107}, {'_id': 35, 'latitude': 31.765385760128474, 'longitude': 35.13460122048855}, {'_id': 36, 'latitude': 34.144458671130096, 'longitude': 72.09338553249836}, {'_id': 37, 'latitude': 34.139665017636545, 'longitude': 72.09170512855053}, {'_id': 38, 'latitude': 30.048276616619038, 'longitude': 31.257372200489044}, {'_id': 39, 'latitude': 33.66878794612444, 'longitude': 73.00006840378046}, {'_id': 40, 'latitude': 33.64388599157803, 'longitude': 73.09087257832289}, {'_id': 41, 'latitude': 33.64383379679333, 'longitude': 73.0908202752471}, {'_id': 42, 'latitude': 33.64378188109373, 'longitude': 73.09081591665745}, {'_id': 43, 'latitude': 33.634549320550285, 'longitude': 73.09619408100843}, {'_id': 44, 'latitude': 33.517871148888894, 'longitude': 72.87231914699078}, {'_id': 45, 'latitude': 33.01481109437303, 'longitude': 73.73526658862829}, {'_id': 46, 'latitude': 32.64872430665188, 'longitude': 73.33715736865997}, {'_id': 47, 'latitude': 32.48295697624009, 'longitude': 72.91242320090532}, {'_id': 48, 'latitude': 32.48093109522745, 'longitude': 72.91209161281586}, {'_id': 49, 'latitude': 32.7638266997, 'longitude': 74.8428532854}, {'_id': 50, 'latitude': 32.7628017939, 'longitude': 74.8444502493}, {'_id': 51, 'latitude': 32.760082, 'longitude': 74.837532}, {'_id': 52, 'latitude': 32.758788, 'longitude': 74.847437}, {'_id': 53, 'latitude': 32.7555441471, 'longitude': 74.8496761546}, {'_id': 54, 'latitude': 32.7506722614, 'longitude': 74.8493418843}, {'_id': 55, 'latitude': 32.7420613597, 'longitude': 74.81924247}, {'_id': 56, 'latitude': 32.7462234, 'longitude': 74.8454447}, {'_id': 57, 'latitude': 32.7485445, 'longitude': 74.8585121}, {'_id': 58, 'latitude': 32.7415018592, 'longitude': 74.8203016073}, {'_id': 59, 'latitude': 32.7437509, 'longitude': 74.8426261}, {'_id': 60, 'latitude': 32.7432816854, 'longitude': 74.8578136756}, {'_id': 61, 'latitude': 32.7432816854, 'longitude': 74.8578136756}, {'_id': 62, 'latitude': 32.7428125667, 'longitude': 74.8578551112}, {'_id': 63, 'latitude': 32.7428125667, 'longitude': 74.8578551112}, {'_id': 64, 'latitude': 32.7428125667, 'longitude': 74.8578551112}, {'_id': 65, 'latitude': 32.7428125667, 'longitude': 74.8578551112}, {'_id': 66, 'latitude': 32.74307, 'longitude': 74.86004}, {'_id': 67, 'latitude': 32.7354934932, 'longitude': 74.829938449}, {'_id': 68, 'latitude': 32.7338418818, 'longitude': 74.8278872938}, {'_id': 69, 'latitude': 32.7415949215, 'longitude': 74.870993346}, {'_id': 70, 'latitude': 32.7396496167, 'longitude': 74.864856787}, {'_id': 71, 'latitude': 32.7406888287, 'longitude': 74.8717064783}, {'_id': 72, 'latitude': 32.738674, 'longitude': 74.8653551}, {'_id': 73, 'latitude': 32.7379826218, 'longitude': 74.8635763675}, {'_id': 74, 'latitude': 32.733540722316874, 'longitude': 74.84355971217155}, {'_id': 75, 'latitude': 32.7376498396, 'longitude': 74.8677170277}, {'_id': 76, 'latitude': 32.7377053974, 'longitude': 74.8712541908}, {'_id': 77, 'latitude': 32.7355137991, 'longitude': 74.8709685355}, {'_id': 78, 'latitude': 32.7317385171, 'longitude': 74.8665485904}, {'_id': 79, 'latitude': 32.7293183153, 'longitude': 74.8691439629}, {'_id': 80, 'latitude': 32.7264631204, 'longitude': 74.8598400503}, {'_id': 81, 'latitude': 32.7233903626, 'longitude': 74.8576342687}, {'_id': 82, 'latitude': 32.7087539626, 'longitude': 74.8641419783}, {'_id': 83, 'latitude': 32.7058673, 'longitude': 74.8622451}, {'_id': 84, 'latitude': 31.961006249510373, 'longitude': 70.6146340817213}, {'_id': 85, 'latitude': 32.7057310942, 'longitude': 74.8729382828}, {'_id': 86, 'latitude': 32.7049338185, 'longitude': 74.8720541596}, {'_id': 87, 'latitude': 32.7049425643, 'longitude': 74.8721138388}, {'_id': 88, 'latitude': 32.7017937356, 'longitude': 74.8603342474}, {'_id': 89, 'latitude': 32.7017911964, 'longitude': 74.8604636639}, {'_id': 90, 'latitude': 32.7017889394, 'longitude': 74.8605726287}, {'_id': 91, 'latitude': 32.7005277968, 'longitude': 74.8538288847}, {'_id': 92, 'latitude': 32.7025092216, 'longitude': 74.8671165481}, {'_id': 93, 'latitude': 32.7013457076, 'longitude': 74.8617779464}, {'_id': 94, 'latitude': 32.7008401217, 'longitude': 74.8591239005}, {'_id': 95, 'latitude': 32.6997485079, 'longitude': 74.8626565265}, {'_id': 96, 'latitude': 32.700267102, 'longitude': 74.8679507151}, {'_id': 97, 'latitude': 32.6981801055, 'longitude': 74.8611114174}, {'_id': 98, 'latitude': 32.6978824429, 'longitude': 74.861696139}, {'_id': 99, 'latitude': 32.6974942103, 'longitude': 74.8615952209}, {'_id': 100, 'latitude': 32.7029324164, 'longitude': 74.8970647529}]\n"
          ]
        }
      ],
      "source": [
        "print(inputs)"
      ]
    },
    {
      "cell_type": "code",
      "execution_count": null,
      "metadata": {
        "id": "C_X6sQ4JLkOR"
      },
      "outputs": [],
      "source": [
        "ids = []\n",
        "latitudes = []\n",
        "longitudes = []"
      ]
    },
    {
      "cell_type": "code",
      "execution_count": null,
      "metadata": {
        "id": "6yz_B49DLkOR"
      },
      "outputs": [],
      "source": [
        "for d in inputs:\n",
        "    ids.append(d['_id'])\n",
        "    latitudes.append(d['latitude'])\n",
        "    longitudes.append(d['longitude'])"
      ]
    },
    {
      "cell_type": "code",
      "execution_count": null,
      "metadata": {
        "id": "RpnqX_KJLkOR"
      },
      "outputs": [],
      "source": [
        "store = [28.9428,77.2276]\n",
        "agents = 10"
      ]
    },
    {
      "cell_type": "code",
      "execution_count": null,
      "metadata": {
        "id": "ex8ZTny_LkOS",
        "outputId": "eef876b1-3595-4f5e-86b8-9c41655cb778"
      },
      "outputs": [
        {
          "data": {
            "image/png": "[encoded data removed]",
            "text/plain": [
              "<Figure size 432x288 with 1 Axes>"
            ]
          },
          "metadata": {
            "needs_background": "light"
          },
          "output_type": "display_data"
        }
      ],
      "source": [
        "plt.scatter(latitudes,longitudes,s=10)\n",
        "plt.scatter(store[0],store[1],c = 'red',s=50)\n",
        "plt.show()"
      ]
    },
    {
      "cell_type": "code",
      "execution_count": null,
      "metadata": {
        "id": "HDuWmX1DLkOS"
      },
      "outputs": [],
      "source": [
        "data = []\n",
        "for i in range(len(latitudes)):\n",
        "    data.append([latitudes[i],longitudes[i]])"
      ]
    },
    {
      "cell_type": "code",
      "execution_count": null,
      "metadata": {
        "id": "aueAbestLkOS"
      },
      "outputs": [],
      "source": [
        "X = pd.DataFrame(data,columns=['Latitude','Longitude'])"
      ]
    },
    {
      "cell_type": "markdown",
      "metadata": {
        "id": "GMrIDBzoLkOS"
      },
      "source": [
        "## We make clusters to decide the locations of delivery address.\n",
        "\n",
        "Clusters will help to decide how the agents will deliver packages to the address.\n",
        "\n",
        "Locations which are close to each other will become a cluster and a single delivery agent will sent to that cluster to deliver the package."
      ]
    },
    {
      "cell_type": "code",
      "execution_count": null,
      "metadata": {
        "id": "Cqq1Ox7iLkOS"
      },
      "outputs": [],
      "source": [
        "model = KMeans(n_clusters = agents, init='k-means++', random_state=42)"
      ]
    },
    {
      "cell_type": "code",
      "execution_count": null,
      "metadata": {
        "id": "WKmLrWgmLkOT",
        "outputId": "4cb62fc9-5a78-4460-cf77-211a4da52d94"
      },
      "outputs": [
        {
          "data": {
            "text/plain": [
              "KMeans(n_clusters=10, random_state=42)"
            ]
          },
          "execution_count": 13,
          "metadata": {},
          "output_type": "execute_result"
        }
      ],
      "source": [
        "model.fit(X)"
      ]
    },
    {
      "cell_type": "code",
      "execution_count": null,
      "metadata": {
        "id": "gHHppSjxLkOT",
        "outputId": "d2d00ecb-a32c-4422-98fa-ac621315f40b"
      },
      "outputs": [
        {
          "name": "stdout",
          "output_type": "stream",
          "text": [
            "[8 8 8 8 8 8 8 8 8 8 8 8 8 8 8 8 8 8 2 2 2 6 6 6 4 4 4 4 4 3 3 0 0 5 9 7 7\n",
            " 9 7 7 7 7 7 7 7 7 7 7 1 1 1 1 1 1 1 1 1 1 1 1 1 1 1 1 1 1 1 1 1 1 1 1 1 1\n",
            " 1 1 1 1 1 1 1 1 1 7 1 1 1 1 1 1 1 1 1 1 1 1 1 1 1 1]\n"
          ]
        }
      ],
      "source": [
        "preds = model.predict(X)\n",
        "print(preds)"
      ]
    },
    {
      "cell_type": "code",
      "execution_count": null,
      "metadata": {
        "id": "l4qdtQG2LkOT"
      },
      "outputs": [],
      "source": [
        "X['Agent'] = preds"
      ]
    },
    {
      "cell_type": "code",
      "execution_count": null,
      "metadata": {
        "id": "knoJnP8ALkOT",
        "outputId": "cdc3d727-d0c6-4717-92f1-e2fb2b019618"
      },
      "outputs": [
        {
          "name": "stderr",
          "output_type": "stream",
          "text": [
            "/opt/conda/lib/python3.9/site-packages/seaborn/_decorators.py:36: FutureWarning: Pass the following variables as keyword args: x, y. From version 0.12, the only valid positional argument will be `data`, and passing other arguments without an explicit keyword will result in an error or misinterpretation.\n",
            "  warnings.warn(\n"
          ]
        },
        {
          "data": {
            "image/png": "[encoded data removed]",
            "text/plain": [
              "<Figure size 432x288 with 1 Axes>"
            ]
          },
          "metadata": {
            "needs_background": "light"
          },
          "output_type": "display_data"
        }
      ],
      "source": [
        "sns.scatterplot(X['Latitude'],X['Longitude'],hue=X['Agent'],s=50);"
      ]
    },
    {
      "cell_type": "code",
      "execution_count": null,
      "metadata": {
        "id": "Dzk3J7kNLkOT"
      },
      "outputs": [],
      "source": [
        "X['ID'] = ids"
      ]
    },
    {
      "cell_type": "code",
      "execution_count": null,
      "metadata": {
        "id": "T4T97mcKLkOT"
      },
      "outputs": [],
      "source": [
        "def get_dist(coord):\n",
        "    return math.sqrt((store[0]-coord[0])**2 + (store[1]-coord[1])**2)"
      ]
    },
    {
      "cell_type": "code",
      "execution_count": null,
      "metadata": {
        "id": "ys6kHlBKLkOU"
      },
      "outputs": [],
      "source": [
        "distance = []\n",
        "for i in range(len(latitudes)):\n",
        "    distance.append(get_dist([latitudes[i],longitudes[i]]))\n",
        "X['Distance'] = distance"
      ]
    },
    {
      "cell_type": "code",
      "execution_count": null,
      "metadata": {
        "id": "bPbZbpIjLkOU"
      },
      "outputs": [],
      "source": [
        "output = [[] for _ in range(agents)]\n",
        "for x,i in enumerate(X['Agent']):\n",
        "    output[i].append(X['ID'][x])"
      ]
    },
    {
      "cell_type": "code",
      "execution_count": null,
      "metadata": {
        "id": "d1q5Oa8HLkOU",
        "outputId": "05161076-9117-4b6b-8b9c-d7f16ed29310"
      },
      "outputs": [
        {
          "name": "stdout",
          "output_type": "stream",
          "text": [
            "[[32, 33], [49, 50, 51, 52, 53, 54, 55, 56, 57, 58, 59, 60, 61, 62, 63, 64, 65, 66, 67, 68, 69, 70, 71, 72, 73, 74, 75, 76, 77, 78, 79, 80, 81, 82, 83, 85, 86, 87, 88, 89, 90, 91, 92, 93, 94, 95, 96, 97, 98, 99, 100], [19, 20, 21], [30, 31], [25, 26, 27, 28, 29], [34], [22, 23, 24], [36, 37, 39, 40, 41, 42, 43, 44, 45, 46, 47, 48, 84], [1, 2, 3, 4, 5, 6, 7, 8, 9, 10, 11, 12, 13, 14, 15, 16, 17, 18], [35, 38]]\n"
          ]
        }
      ],
      "source": [
        "print(output)"
      ]
    },
    {
      "cell_type": "code",
      "execution_count": null,
      "metadata": {
        "id": "mB_YBsG2LkOU",
        "outputId": "ea79eb4a-ef0a-4f4a-a145-3acfe7cf399f"
      },
      "outputs": [
        {
          "data": {
            "text/html": [
              "<div>\n",
              "<style scoped>\n",
              "    .dataframe tbody tr th:only-of-type {\n",
              "        vertical-align: middle;\n",
              "    }\n",
              "\n",
              "    .dataframe tbody tr th {\n",
              "        vertical-align: top;\n",
              "    }\n",
              "\n",
              "    .dataframe thead th {\n",
              "        text-align: right;\n",
              "    }\n",
              "</style>\n",
              "<table border=\"1\" class=\"dataframe\">\n",
              "  <thead>\n",
              "    <tr style=\"text-align: right;\">\n",
              "      <th></th>\n",
              "      <th>Latitude</th>\n",
              "      <th>Longitude</th>\n",
              "      <th>Agent</th>\n",
              "      <th>ID</th>\n",
              "      <th>Distance</th>\n",
              "    </tr>\n",
              "  </thead>\n",
              "  <tbody>\n",
              "    <tr>\n",
              "      <th>0</th>\n",
              "      <td>77.263982</td>\n",
              "      <td>29.089081</td>\n",
              "      <td>8</td>\n",
              "      <td>1</td>\n",
              "      <td>68.207431</td>\n",
              "    </tr>\n",
              "    <tr>\n",
              "      <th>1</th>\n",
              "      <td>77.265247</td>\n",
              "      <td>29.092540</td>\n",
              "      <td>8</td>\n",
              "      <td>2</td>\n",
              "      <td>68.205886</td>\n",
              "    </tr>\n",
              "    <tr>\n",
              "      <th>2</th>\n",
              "      <td>77.264050</td>\n",
              "      <td>29.099163</td>\n",
              "      <td>8</td>\n",
              "      <td>3</td>\n",
              "      <td>68.200364</td>\n",
              "    </tr>\n",
              "    <tr>\n",
              "      <th>3</th>\n",
              "      <td>77.265635</td>\n",
              "      <td>29.095355</td>\n",
              "      <td>8</td>\n",
              "      <td>4</td>\n",
              "      <td>68.204174</td>\n",
              "    </tr>\n",
              "    <tr>\n",
              "      <th>4</th>\n",
              "      <td>77.265838</td>\n",
              "      <td>29.095966</td>\n",
              "      <td>8</td>\n",
              "      <td>5</td>\n",
              "      <td>68.203887</td>\n",
              "    </tr>\n",
              "    <tr>\n",
              "      <th>...</th>\n",
              "      <td>...</td>\n",
              "      <td>...</td>\n",
              "      <td>...</td>\n",
              "      <td>...</td>\n",
              "      <td>...</td>\n",
              "    </tr>\n",
              "    <tr>\n",
              "      <th>95</th>\n",
              "      <td>32.700267</td>\n",
              "      <td>74.867951</td>\n",
              "      <td>1</td>\n",
              "      <td>96</td>\n",
              "      <td>4.436948</td>\n",
              "    </tr>\n",
              "    <tr>\n",
              "      <th>96</th>\n",
              "      <td>32.698180</td>\n",
              "      <td>74.861111</td>\n",
              "      <td>1</td>\n",
              "      <td>97</td>\n",
              "      <td>4.438823</td>\n",
              "    </tr>\n",
              "    <tr>\n",
              "      <th>97</th>\n",
              "      <td>32.697882</td>\n",
              "      <td>74.861696</td>\n",
              "      <td>1</td>\n",
              "      <td>98</td>\n",
              "      <td>4.438259</td>\n",
              "    </tr>\n",
              "    <tr>\n",
              "      <th>98</th>\n",
              "      <td>32.697494</td>\n",
              "      <td>74.861595</td>\n",
              "      <td>1</td>\n",
              "      <td>99</td>\n",
              "      <td>4.437985</td>\n",
              "    </tr>\n",
              "    <tr>\n",
              "      <th>99</th>\n",
              "      <td>32.702932</td>\n",
              "      <td>74.897065</td>\n",
              "      <td>1</td>\n",
              "      <td>100</td>\n",
              "      <td>4.423798</td>\n",
              "    </tr>\n",
              "  </tbody>\n",
              "</table>\n",
              "<p>100 rows × 5 columns</p>\n",
              "</div>"
            ],
            "text/plain": [
              "     Latitude  Longitude  Agent   ID   Distance\n",
              "0   77.263982  29.089081      8    1  68.207431\n",
              "1   77.265247  29.092540      8    2  68.205886\n",
              "2   77.264050  29.099163      8    3  68.200364\n",
              "3   77.265635  29.095355      8    4  68.204174\n",
              "4   77.265838  29.095966      8    5  68.203887\n",
              "..        ...        ...    ...  ...        ...\n",
              "95  32.700267  74.867951      1   96   4.436948\n",
              "96  32.698180  74.861111      1   97   4.438823\n",
              "97  32.697882  74.861696      1   98   4.438259\n",
              "98  32.697494  74.861595      1   99   4.437985\n",
              "99  32.702932  74.897065      1  100   4.423798\n",
              "\n",
              "[100 rows x 5 columns]"
            ]
          },
          "execution_count": 24,
          "metadata": {},
          "output_type": "execute_result"
        }
      ],
      "source": [
        "X"
      ]
    },
    {
      "cell_type": "markdown",
      "metadata": {
        "id": "pJCR1CwXLkOU"
      },
      "source": [
        "## Arranging the order of delivery to optimize the time of delivery.\n",
        "\n",
        "Let's decide the order of delivery.\n",
        "\n",
        "Location which is nearest to the store will be delivered first and then sencond nearest one and so on."
      ]
    },
    {
      "cell_type": "code",
      "execution_count": null,
      "metadata": {
        "id": "lwmMqwp8LkOU"
      },
      "outputs": [],
      "source": [
        "output = [[] for _ in range(agents)]\n",
        "_dict = {}\n",
        "for x,i in enumerate(X['Agent'].unique()):\n",
        "    a = list(X[X.Agent==i]['ID'])\n",
        "    b = list(X[X.Agent==i]['Distance'])\n",
        "    _dict = {a[i]:b[i] for i in range(len(a))}\n",
        "    _dict = sorted(_dict.items(), key=lambda kv:(kv[1], kv[0]))\n",
        "    for j in _dict:\n",
        "        output[x].append(j[0])"
      ]
    },
    {
      "cell_type": "markdown",
      "metadata": {
        "id": "FtZZSNtLLkOU"
      },
      "source": [
        "## Below is the array that contain addresses id that agent will deliver and in order they deliver."
      ]
    },
    {
      "cell_type": "code",
      "execution_count": null,
      "metadata": {
        "id": "fa71AecBLkOV",
        "outputId": "f12efb3d-3a46-4659-c545-d1c6f847b4be"
      },
      "outputs": [
        {
          "name": "stdout",
          "output_type": "stream",
          "text": [
            "[[17, 15, 12, 13, 14, 16, 3, 8, 9, 11, 10, 7, 5, 6, 4, 2, 1, 18], [19, 20, 21], [23, 24, 22], [26, 25, 27, 28, 29], [31, 30], [32, 33], [34], [35, 38], [45, 46, 48, 47, 43, 42, 41, 40, 44, 39, 84, 37, 36], [100, 96, 99, 98, 87, 86, 97, 85, 92, 95, 93, 94, 90, 89, 88, 91, 83, 82, 79, 81, 80, 78, 77, 76, 75, 71, 69, 72, 73, 70, 66, 74, 62, 63, 64, 65, 60, 61, 57, 68, 67, 59, 56, 54, 53, 58, 52, 55, 50, 51, 49]]\n"
          ]
        }
      ],
      "source": [
        "print(output)"
      ]
    },
    {
      "cell_type": "code",
      "execution_count": null,
      "metadata": {
        "id": "ceL5UU3VLkOV"
      },
      "outputs": [],
      "source": []
    }
  ],
  "metadata": {
    "kernelspec": {
      "display_name": "Python 3 (ipykernel)",
      "language": "python",
      "name": "python3"
    },
    "language_info": {
      "codemirror_mode": {
        "name": "ipython",
        "version": 3
      },
      "file_extension": ".py",
      "mimetype": "text/x-python",
      "name": "python",
      "nbconvert_exporter": "python",
      "pygments_lexer": "ipython3",
      "version": "3.9.7"
    },
    "colab": {
      "provenance": [],
      "include_colab_link": true
    }
  },
  "nbformat": 4,
  "nbformat_minor": 0
}